{
  "nbformat": 4,
  "nbformat_minor": 0,
  "metadata": {
    "colab": {
      "provenance": [],
      "mount_file_id": "1Wo_ViHHlYTIc1-jPF06m2TFIKaFPkGPv",
      "authorship_tag": "ABX9TyOgGy+mOSDvrxecQGsDpWWP",
      "include_colab_link": true
    },
    "kernelspec": {
      "name": "python3",
      "display_name": "Python 3"
    },
    "language_info": {
      "name": "python"
    }
  },
  "cells": [
    {
      "cell_type": "markdown",
      "metadata": {
        "id": "view-in-github",
        "colab_type": "text"
      },
      "source": [
        "<a href=\"https://colab.research.google.com/github/montsejl/08MBID---Visualizacion-Trabajo-practico/blob/main/Trabajo_practico.ipynb\" target=\"_parent\"><img src=\"https://colab.research.google.com/assets/colab-badge.svg\" alt=\"Open In Colab\"/></a>"
      ]
    },
    {
      "cell_type": "code",
      "execution_count": null,
      "metadata": {
        "id": "YbBA0OAS_lTD"
      },
      "outputs": [],
      "source": [
        "# Montserrat Jiménez Linares - Trabajo práctico\n",
        "import pandas as pd\n",
        "import numpy as np\n",
        "import datetime\n",
        "import io\n",
        "import requests\n",
        "import seaborn as sns\n",
        "import timeit\n",
        "import matplotlib.pyplot as plt"
      ]
    },
    {
      "cell_type": "code",
      "source": [
        "# Montserrat Jiménez Linares - Trabajo práctico\n",
        "df = pd.read_csv(\"/content/drive/MyDrive/VIU_Master Big Data/08 visualización de datos/Trabajo_practico/datasets/3_dataset_para_modelacion/dataset_PYTHON.csv\")\n",
        "df"
      ],
      "metadata": {
        "colab": {
          "base_uri": "https://localhost:8080/",
          "height": 424
        },
        "id": "pqRFUqaFE_rt",
        "outputId": "fb05202a-591a-466c-b63a-7fa6a3de5f24"
      },
      "execution_count": null,
      "outputs": [
        {
          "output_type": "execute_result",
          "data": {
            "text/plain": [
              "           fecha   pais  temperatura_media  temperatura_minima  \\\n",
              "0       1/1/2018  Italy               11.7                 7.4   \n",
              "1       2/1/2018  Italy               10.0                 6.9   \n",
              "2       3/1/2018  Italy                9.2                 1.2   \n",
              "3       4/1/2018  Italy               11.0                 6.6   \n",
              "4       5/1/2018  Italy               12.3                 6.9   \n",
              "...          ...    ...                ...                 ...   \n",
              "5230   7/10/2022  Spain               18.6                12.6   \n",
              "5231   8/10/2022  Spain               19.6                14.6   \n",
              "5232   9/10/2022  Spain               19.1                13.6   \n",
              "5233  10/10/2022  Spain               20.6                18.4   \n",
              "5234  11/10/2022  Spain               20.4                15.9   \n",
              "\n",
              "      temperatura_maxima  dia  mes_aux  anio      mes      mes/anio  \n",
              "0                   14.0    1        1  2018    enero    enero/2018  \n",
              "1                   13.0    2        1  2018    enero    enero/2018  \n",
              "2                   14.4    3        1  2018    enero    enero/2018  \n",
              "3                   16.4    4        1  2018    enero    enero/2018  \n",
              "4                   17.4    5        1  2018    enero    enero/2018  \n",
              "...                  ...  ...      ...   ...      ...           ...  \n",
              "5230                22.8    7       10  2022  octubre  octubre/2022  \n",
              "5231                21.9    8       10  2022  octubre  octubre/2022  \n",
              "5232                26.1    9       10  2022  octubre  octubre/2022  \n",
              "5233                23.3   10       10  2022  octubre  octubre/2022  \n",
              "5234                26.1   11       10  2022  octubre  octubre/2022  \n",
              "\n",
              "[5235 rows x 10 columns]"
            ],
            "text/html": [
              "\n",
              "  <div id=\"df-58b45638-4e80-4ac7-a91d-5faf6d4398ff\">\n",
              "    <div class=\"colab-df-container\">\n",
              "      <div>\n",
              "<style scoped>\n",
              "    .dataframe tbody tr th:only-of-type {\n",
              "        vertical-align: middle;\n",
              "    }\n",
              "\n",
              "    .dataframe tbody tr th {\n",
              "        vertical-align: top;\n",
              "    }\n",
              "\n",
              "    .dataframe thead th {\n",
              "        text-align: right;\n",
              "    }\n",
              "</style>\n",
              "<table border=\"1\" class=\"dataframe\">\n",
              "  <thead>\n",
              "    <tr style=\"text-align: right;\">\n",
              "      <th></th>\n",
              "      <th>fecha</th>\n",
              "      <th>pais</th>\n",
              "      <th>temperatura_media</th>\n",
              "      <th>temperatura_minima</th>\n",
              "      <th>temperatura_maxima</th>\n",
              "      <th>dia</th>\n",
              "      <th>mes_aux</th>\n",
              "      <th>anio</th>\n",
              "      <th>mes</th>\n",
              "      <th>mes/anio</th>\n",
              "    </tr>\n",
              "  </thead>\n",
              "  <tbody>\n",
              "    <tr>\n",
              "      <th>0</th>\n",
              "      <td>1/1/2018</td>\n",
              "      <td>Italy</td>\n",
              "      <td>11.7</td>\n",
              "      <td>7.4</td>\n",
              "      <td>14.0</td>\n",
              "      <td>1</td>\n",
              "      <td>1</td>\n",
              "      <td>2018</td>\n",
              "      <td>enero</td>\n",
              "      <td>enero/2018</td>\n",
              "    </tr>\n",
              "    <tr>\n",
              "      <th>1</th>\n",
              "      <td>2/1/2018</td>\n",
              "      <td>Italy</td>\n",
              "      <td>10.0</td>\n",
              "      <td>6.9</td>\n",
              "      <td>13.0</td>\n",
              "      <td>2</td>\n",
              "      <td>1</td>\n",
              "      <td>2018</td>\n",
              "      <td>enero</td>\n",
              "      <td>enero/2018</td>\n",
              "    </tr>\n",
              "    <tr>\n",
              "      <th>2</th>\n",
              "      <td>3/1/2018</td>\n",
              "      <td>Italy</td>\n",
              "      <td>9.2</td>\n",
              "      <td>1.2</td>\n",
              "      <td>14.4</td>\n",
              "      <td>3</td>\n",
              "      <td>1</td>\n",
              "      <td>2018</td>\n",
              "      <td>enero</td>\n",
              "      <td>enero/2018</td>\n",
              "    </tr>\n",
              "    <tr>\n",
              "      <th>3</th>\n",
              "      <td>4/1/2018</td>\n",
              "      <td>Italy</td>\n",
              "      <td>11.0</td>\n",
              "      <td>6.6</td>\n",
              "      <td>16.4</td>\n",
              "      <td>4</td>\n",
              "      <td>1</td>\n",
              "      <td>2018</td>\n",
              "      <td>enero</td>\n",
              "      <td>enero/2018</td>\n",
              "    </tr>\n",
              "    <tr>\n",
              "      <th>4</th>\n",
              "      <td>5/1/2018</td>\n",
              "      <td>Italy</td>\n",
              "      <td>12.3</td>\n",
              "      <td>6.9</td>\n",
              "      <td>17.4</td>\n",
              "      <td>5</td>\n",
              "      <td>1</td>\n",
              "      <td>2018</td>\n",
              "      <td>enero</td>\n",
              "      <td>enero/2018</td>\n",
              "    </tr>\n",
              "    <tr>\n",
              "      <th>...</th>\n",
              "      <td>...</td>\n",
              "      <td>...</td>\n",
              "      <td>...</td>\n",
              "      <td>...</td>\n",
              "      <td>...</td>\n",
              "      <td>...</td>\n",
              "      <td>...</td>\n",
              "      <td>...</td>\n",
              "      <td>...</td>\n",
              "      <td>...</td>\n",
              "    </tr>\n",
              "    <tr>\n",
              "      <th>5230</th>\n",
              "      <td>7/10/2022</td>\n",
              "      <td>Spain</td>\n",
              "      <td>18.6</td>\n",
              "      <td>12.6</td>\n",
              "      <td>22.8</td>\n",
              "      <td>7</td>\n",
              "      <td>10</td>\n",
              "      <td>2022</td>\n",
              "      <td>octubre</td>\n",
              "      <td>octubre/2022</td>\n",
              "    </tr>\n",
              "    <tr>\n",
              "      <th>5231</th>\n",
              "      <td>8/10/2022</td>\n",
              "      <td>Spain</td>\n",
              "      <td>19.6</td>\n",
              "      <td>14.6</td>\n",
              "      <td>21.9</td>\n",
              "      <td>8</td>\n",
              "      <td>10</td>\n",
              "      <td>2022</td>\n",
              "      <td>octubre</td>\n",
              "      <td>octubre/2022</td>\n",
              "    </tr>\n",
              "    <tr>\n",
              "      <th>5232</th>\n",
              "      <td>9/10/2022</td>\n",
              "      <td>Spain</td>\n",
              "      <td>19.1</td>\n",
              "      <td>13.6</td>\n",
              "      <td>26.1</td>\n",
              "      <td>9</td>\n",
              "      <td>10</td>\n",
              "      <td>2022</td>\n",
              "      <td>octubre</td>\n",
              "      <td>octubre/2022</td>\n",
              "    </tr>\n",
              "    <tr>\n",
              "      <th>5233</th>\n",
              "      <td>10/10/2022</td>\n",
              "      <td>Spain</td>\n",
              "      <td>20.6</td>\n",
              "      <td>18.4</td>\n",
              "      <td>23.3</td>\n",
              "      <td>10</td>\n",
              "      <td>10</td>\n",
              "      <td>2022</td>\n",
              "      <td>octubre</td>\n",
              "      <td>octubre/2022</td>\n",
              "    </tr>\n",
              "    <tr>\n",
              "      <th>5234</th>\n",
              "      <td>11/10/2022</td>\n",
              "      <td>Spain</td>\n",
              "      <td>20.4</td>\n",
              "      <td>15.9</td>\n",
              "      <td>26.1</td>\n",
              "      <td>11</td>\n",
              "      <td>10</td>\n",
              "      <td>2022</td>\n",
              "      <td>octubre</td>\n",
              "      <td>octubre/2022</td>\n",
              "    </tr>\n",
              "  </tbody>\n",
              "</table>\n",
              "<p>5235 rows × 10 columns</p>\n",
              "</div>\n",
              "      <button class=\"colab-df-convert\" onclick=\"convertToInteractive('df-58b45638-4e80-4ac7-a91d-5faf6d4398ff')\"\n",
              "              title=\"Convert this dataframe to an interactive table.\"\n",
              "              style=\"display:none;\">\n",
              "        \n",
              "  <svg xmlns=\"http://www.w3.org/2000/svg\" height=\"24px\"viewBox=\"0 0 24 24\"\n",
              "       width=\"24px\">\n",
              "    <path d=\"M0 0h24v24H0V0z\" fill=\"none\"/>\n",
              "    <path d=\"M18.56 5.44l.94 2.06.94-2.06 2.06-.94-2.06-.94-.94-2.06-.94 2.06-2.06.94zm-11 1L8.5 8.5l.94-2.06 2.06-.94-2.06-.94L8.5 2.5l-.94 2.06-2.06.94zm10 10l.94 2.06.94-2.06 2.06-.94-2.06-.94-.94-2.06-.94 2.06-2.06.94z\"/><path d=\"M17.41 7.96l-1.37-1.37c-.4-.4-.92-.59-1.43-.59-.52 0-1.04.2-1.43.59L10.3 9.45l-7.72 7.72c-.78.78-.78 2.05 0 2.83L4 21.41c.39.39.9.59 1.41.59.51 0 1.02-.2 1.41-.59l7.78-7.78 2.81-2.81c.8-.78.8-2.07 0-2.86zM5.41 20L4 18.59l7.72-7.72 1.47 1.35L5.41 20z\"/>\n",
              "  </svg>\n",
              "      </button>\n",
              "      \n",
              "  <style>\n",
              "    .colab-df-container {\n",
              "      display:flex;\n",
              "      flex-wrap:wrap;\n",
              "      gap: 12px;\n",
              "    }\n",
              "\n",
              "    .colab-df-convert {\n",
              "      background-color: #E8F0FE;\n",
              "      border: none;\n",
              "      border-radius: 50%;\n",
              "      cursor: pointer;\n",
              "      display: none;\n",
              "      fill: #1967D2;\n",
              "      height: 32px;\n",
              "      padding: 0 0 0 0;\n",
              "      width: 32px;\n",
              "    }\n",
              "\n",
              "    .colab-df-convert:hover {\n",
              "      background-color: #E2EBFA;\n",
              "      box-shadow: 0px 1px 2px rgba(60, 64, 67, 0.3), 0px 1px 3px 1px rgba(60, 64, 67, 0.15);\n",
              "      fill: #174EA6;\n",
              "    }\n",
              "\n",
              "    [theme=dark] .colab-df-convert {\n",
              "      background-color: #3B4455;\n",
              "      fill: #D2E3FC;\n",
              "    }\n",
              "\n",
              "    [theme=dark] .colab-df-convert:hover {\n",
              "      background-color: #434B5C;\n",
              "      box-shadow: 0px 1px 3px 1px rgba(0, 0, 0, 0.15);\n",
              "      filter: drop-shadow(0px 1px 2px rgba(0, 0, 0, 0.3));\n",
              "      fill: #FFFFFF;\n",
              "    }\n",
              "  </style>\n",
              "\n",
              "      <script>\n",
              "        const buttonEl =\n",
              "          document.querySelector('#df-58b45638-4e80-4ac7-a91d-5faf6d4398ff button.colab-df-convert');\n",
              "        buttonEl.style.display =\n",
              "          google.colab.kernel.accessAllowed ? 'block' : 'none';\n",
              "\n",
              "        async function convertToInteractive(key) {\n",
              "          const element = document.querySelector('#df-58b45638-4e80-4ac7-a91d-5faf6d4398ff');\n",
              "          const dataTable =\n",
              "            await google.colab.kernel.invokeFunction('convertToInteractive',\n",
              "                                                     [key], {});\n",
              "          if (!dataTable) return;\n",
              "\n",
              "          const docLinkHtml = 'Like what you see? Visit the ' +\n",
              "            '<a target=\"_blank\" href=https://colab.research.google.com/notebooks/data_table.ipynb>data table notebook</a>'\n",
              "            + ' to learn more about interactive tables.';\n",
              "          element.innerHTML = '';\n",
              "          dataTable['output_type'] = 'display_data';\n",
              "          await google.colab.output.renderOutput(dataTable, element);\n",
              "          const docLink = document.createElement('div');\n",
              "          docLink.innerHTML = docLinkHtml;\n",
              "          element.appendChild(docLink);\n",
              "        }\n",
              "      </script>\n",
              "    </div>\n",
              "  </div>\n",
              "  "
            ]
          },
          "metadata": {},
          "execution_count": 3
        }
      ]
    },
    {
      "cell_type": "code",
      "source": [
        "# Montserrat Jiménez Linares - Trabajo práctico\n",
        "type(df)"
      ],
      "metadata": {
        "colab": {
          "base_uri": "https://localhost:8080/"
        },
        "id": "09tT_u2Pfkwe",
        "outputId": "3fbafede-141a-460e-ae41-7e6d7cc43b95"
      },
      "execution_count": null,
      "outputs": [
        {
          "output_type": "execute_result",
          "data": {
            "text/plain": [
              "pandas.core.frame.DataFrame"
            ]
          },
          "metadata": {},
          "execution_count": 4
        }
      ]
    },
    {
      "cell_type": "code",
      "source": [
        "# Montserrat Jiménez Linares - Trabajo práctico\n",
        "df.info()"
      ],
      "metadata": {
        "colab": {
          "base_uri": "https://localhost:8080/"
        },
        "id": "EZGXgamXiGjp",
        "outputId": "14212325-8028-466d-87fe-ba2a4e51382f"
      },
      "execution_count": null,
      "outputs": [
        {
          "output_type": "stream",
          "name": "stdout",
          "text": [
            "<class 'pandas.core.frame.DataFrame'>\n",
            "RangeIndex: 5235 entries, 0 to 5234\n",
            "Data columns (total 10 columns):\n",
            " #   Column              Non-Null Count  Dtype  \n",
            "---  ------              --------------  -----  \n",
            " 0   fecha               5235 non-null   object \n",
            " 1   pais                5235 non-null   object \n",
            " 2   temperatura_media   5228 non-null   float64\n",
            " 3   temperatura_minima  5231 non-null   float64\n",
            " 4   temperatura_maxima  5227 non-null   float64\n",
            " 5   dia                 5235 non-null   int64  \n",
            " 6   mes_aux             5235 non-null   int64  \n",
            " 7   anio                5235 non-null   int64  \n",
            " 8   mes                 5235 non-null   object \n",
            " 9   mes/anio            5235 non-null   object \n",
            "dtypes: float64(3), int64(3), object(4)\n",
            "memory usage: 409.1+ KB\n"
          ]
        }
      ]
    },
    {
      "cell_type": "code",
      "source": [
        "# Montserrat Jiménez Linares - Trabajo práctico\n",
        "df['fecha'].min()"
      ],
      "metadata": {
        "colab": {
          "base_uri": "https://localhost:8080/",
          "height": 35
        },
        "id": "uz_w30piLV37",
        "outputId": "8deb3f62-37ed-4749-ee73-0000000b6024"
      },
      "execution_count": null,
      "outputs": [
        {
          "output_type": "execute_result",
          "data": {
            "text/plain": [
              "'1/1/2018'"
            ],
            "application/vnd.google.colaboratory.intrinsic+json": {
              "type": "string"
            }
          },
          "metadata": {},
          "execution_count": 6
        }
      ]
    },
    {
      "cell_type": "code",
      "source": [
        "# Montserrat Jiménez Linares - Trabajo práctico\n",
        "df['fecha'].max()"
      ],
      "metadata": {
        "colab": {
          "base_uri": "https://localhost:8080/",
          "height": 35
        },
        "id": "POVeoAzZLVq6",
        "outputId": "e4c07108-d433-4063-e130-996d997a3863"
      },
      "execution_count": null,
      "outputs": [
        {
          "output_type": "execute_result",
          "data": {
            "text/plain": [
              "'9/9/2022'"
            ],
            "application/vnd.google.colaboratory.intrinsic+json": {
              "type": "string"
            }
          },
          "metadata": {},
          "execution_count": 7
        }
      ]
    },
    {
      "cell_type": "code",
      "source": [
        "# Montserrat Jiménez Linares - Trabajo práctico\n",
        "# Distribución de la edad según la categorías: survived, clase\n",
        "# Cambiamos el font\n",
        "sns.set(font_scale=1)\n",
        "\n",
        "# FacetGrid - Construir una matriz de gráficos\n",
        "g = sns.FacetGrid(df, row='anio')\n",
        "g.map(sns.distplot, \"temperatura_media\")\n",
        "plt.show()"
      ],
      "metadata": {
        "colab": {
          "base_uri": "https://localhost:8080/",
          "height": 1000
        },
        "id": "4alPl6lPxAVE",
        "outputId": "aeb5fbcd-40ec-4045-9294-f8aa82fe5154"
      },
      "execution_count": null,
      "outputs": [
        {
          "output_type": "stream",
          "name": "stderr",
          "text": [
            "/usr/local/lib/python3.7/dist-packages/seaborn/distributions.py:2619: FutureWarning: `distplot` is a deprecated function and will be removed in a future version. Please adapt your code to use either `displot` (a figure-level function with similar flexibility) or `histplot` (an axes-level function for histograms).\n",
            "  warnings.warn(msg, FutureWarning)\n",
            "/usr/local/lib/python3.7/dist-packages/seaborn/distributions.py:2619: FutureWarning: `distplot` is a deprecated function and will be removed in a future version. Please adapt your code to use either `displot` (a figure-level function with similar flexibility) or `histplot` (an axes-level function for histograms).\n",
            "  warnings.warn(msg, FutureWarning)\n",
            "/usr/local/lib/python3.7/dist-packages/seaborn/distributions.py:2619: FutureWarning: `distplot` is a deprecated function and will be removed in a future version. Please adapt your code to use either `displot` (a figure-level function with similar flexibility) or `histplot` (an axes-level function for histograms).\n",
            "  warnings.warn(msg, FutureWarning)\n",
            "/usr/local/lib/python3.7/dist-packages/seaborn/distributions.py:2619: FutureWarning: `distplot` is a deprecated function and will be removed in a future version. Please adapt your code to use either `displot` (a figure-level function with similar flexibility) or `histplot` (an axes-level function for histograms).\n",
            "  warnings.warn(msg, FutureWarning)\n",
            "/usr/local/lib/python3.7/dist-packages/seaborn/distributions.py:2619: FutureWarning: `distplot` is a deprecated function and will be removed in a future version. Please adapt your code to use either `displot` (a figure-level function with similar flexibility) or `histplot` (an axes-level function for histograms).\n",
            "  warnings.warn(msg, FutureWarning)\n"
          ]
        },
        {
          "output_type": "display_data",
          "data": {
            "text/plain": [
              "<Figure size 216x1080 with 5 Axes>"
            ],
            "image/png": "[encoded data removed]"
          },
          "metadata": {}
        }
      ]
    },
    {
      "cell_type": "code",
      "source": [
        "# Montserrat Jiménez Linares - Trabajo práctico\n",
        "# Mapa de calor de correlaciones\n",
        "tc = df.corr()\n",
        "sns.heatmap(tc,cmap='coolwarm')\n",
        "plt.title('df.corr()')"
      ],
      "metadata": {
        "colab": {
          "base_uri": "https://localhost:8080/",
          "height": 396
        },
        "id": "4no7jrN9xD4J",
        "outputId": "29838374-47eb-4d5d-9ea1-15cd2513d0f5"
      },
      "execution_count": null,
      "outputs": [
        {
          "output_type": "execute_result",
          "data": {
            "text/plain": [
              "Text(0.5, 1.0, 'df.corr()')"
            ]
          },
          "metadata": {},
          "execution_count": 7
        },
        {
          "output_type": "display_data",
          "data": {
            "text/plain": [
              "<Figure size 432x288 with 2 Axes>"
            ],
            "image/png": "[encoded data removed]"
          },
          "metadata": {
            "needs_background": "light"
          }
        }
      ]
    }
  ]
}